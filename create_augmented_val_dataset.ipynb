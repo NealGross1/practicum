{
 "cells": [
  {
   "cell_type": "code",
   "execution_count": 98,
   "metadata": {},
   "outputs": [],
   "source": [
    "import pandas as pd\n",
    "from PIL import Image\n",
    "import random\n",
    "import albumentations as A\n",
    "import numpy as np\n",
    "import json\n",
    "import os\n",
    "from tqdm import tqdm"
   ]
  },
  {
   "cell_type": "code",
   "execution_count": 99,
   "metadata": {},
   "outputs": [],
   "source": [
    "# Define augmentation functions\n",
    "def rotate_image(image, angle):\n",
    "    transform = A.Rotate(limit=(angle, angle), p=1.0)\n",
    "    return transform(image=image)['image']\n",
    "\n",
    "def gaussian_blur_image(image, sigma):\n",
    "    transform = A.GaussianBlur(blur_limit=(sigma, sigma), p=1.0)\n",
    "    return transform(image=image)['image']\n",
    "\n",
    "def adv_blur_image(image, shift, intensity):\n",
    "    transform = A.GaussNoise(var_limit=shift, noise_scale_factor=intensity, p=1.0)\n",
    "    return transform(image=image)['image']\n",
    "\n",
    "def drop_pixels(image, drop_fraction=0.01):\n",
    "    height, width, _ = image.shape\n",
    "    num_pixels_to_drop = int(width * height * drop_fraction)\n",
    "    \n",
    "    for _ in range(num_pixels_to_drop):\n",
    "        x = random.randint(0, width - 1)\n",
    "        y = random.randint(0, height - 1)\n",
    "        image[y, x] = [0, 0, 0]  # Drop to black or any other color\n",
    "    \n",
    "    return image"
   ]
  },
  {
   "cell_type": "code",
   "execution_count": 100,
   "metadata": {},
   "outputs": [
    {
     "name": "stdout",
     "output_type": "stream",
     "text": [
      "using ship\n",
      "using plane\n",
      "[ 3 12]\n"
     ]
    },
    {
     "data": {
      "text/html": [
       "<div>\n",
       "<style scoped>\n",
       "    .dataframe tbody tr th:only-of-type {\n",
       "        vertical-align: middle;\n",
       "    }\n",
       "\n",
       "    .dataframe tbody tr th {\n",
       "        vertical-align: top;\n",
       "    }\n",
       "\n",
       "    .dataframe thead th {\n",
       "        text-align: right;\n",
       "    }\n",
       "</style>\n",
       "<table border=\"1\" class=\"dataframe\">\n",
       "  <thead>\n",
       "    <tr style=\"text-align: right;\">\n",
       "      <th></th>\n",
       "      <th>id</th>\n",
       "      <th>image_id</th>\n",
       "      <th>category_id</th>\n",
       "      <th>bbox</th>\n",
       "      <th>area</th>\n",
       "      <th>iscrowd</th>\n",
       "      <th>segmentation</th>\n",
       "      <th>polygon</th>\n",
       "    </tr>\n",
       "  </thead>\n",
       "  <tbody>\n",
       "    <tr>\n",
       "      <th>696</th>\n",
       "      <td>697</td>\n",
       "      <td>49</td>\n",
       "      <td>3</td>\n",
       "      <td>[109.0, 453.0, 36.0, 50.0]</td>\n",
       "      <td>916.0</td>\n",
       "      <td>0</td>\n",
       "      <td>[[145.0, 461.0, 127.0, 453.0, 109.0, 493.0, 12...</td>\n",
       "      <td>POLYGON ((2193 461, 2175 453, 2157 493, 2176 5...</td>\n",
       "    </tr>\n",
       "    <tr>\n",
       "      <th>698</th>\n",
       "      <td>699</td>\n",
       "      <td>50</td>\n",
       "      <td>3</td>\n",
       "      <td>[299.0, 305.0, 18.0, 30.0]</td>\n",
       "      <td>420.0</td>\n",
       "      <td>0</td>\n",
       "      <td>[[299.0, 335.0, 315.0, 335.0, 317.0, 305.0, 30...</td>\n",
       "      <td>POLYGON ((2756 335, 2772 335, 2774 305, 2762 3...</td>\n",
       "    </tr>\n",
       "    <tr>\n",
       "      <th>717</th>\n",
       "      <td>718</td>\n",
       "      <td>57</td>\n",
       "      <td>3</td>\n",
       "      <td>[265.0, 446.0, 32.0, 29.0]</td>\n",
       "      <td>457.0</td>\n",
       "      <td>0</td>\n",
       "      <td>[[297.0, 460.0, 288.0, 446.0, 265.0, 461.0, 27...</td>\n",
       "      <td>POLYGON ((706 869, 697 855, 674 870, 683 884, ...</td>\n",
       "    </tr>\n",
       "    <tr>\n",
       "      <th>724</th>\n",
       "      <td>725</td>\n",
       "      <td>61</td>\n",
       "      <td>3</td>\n",
       "      <td>[109.0, 44.0, 36.0, 50.0]</td>\n",
       "      <td>916.0</td>\n",
       "      <td>0</td>\n",
       "      <td>[[145.0, 52.0, 127.0, 44.0, 109.0, 84.0, 128.0...</td>\n",
       "      <td>POLYGON ((2193 461, 2175 453, 2157 493, 2176 5...</td>\n",
       "    </tr>\n",
       "    <tr>\n",
       "      <th>732</th>\n",
       "      <td>733</td>\n",
       "      <td>66</td>\n",
       "      <td>3</td>\n",
       "      <td>[336.0, 364.0, 27.0, 19.0]</td>\n",
       "      <td>444.0</td>\n",
       "      <td>0</td>\n",
       "      <td>[[363.0, 381.0, 362.0, 364.0, 336.0, 366.0, 33...</td>\n",
       "      <td>POLYGON ((4459 790, 4458 773, 4432 775, 4433 7...</td>\n",
       "    </tr>\n",
       "  </tbody>\n",
       "</table>\n",
       "</div>"
      ],
      "text/plain": [
       "      id  image_id  category_id                        bbox   area  iscrowd  \\\n",
       "696  697        49            3  [109.0, 453.0, 36.0, 50.0]  916.0        0   \n",
       "698  699        50            3  [299.0, 305.0, 18.0, 30.0]  420.0        0   \n",
       "717  718        57            3  [265.0, 446.0, 32.0, 29.0]  457.0        0   \n",
       "724  725        61            3   [109.0, 44.0, 36.0, 50.0]  916.0        0   \n",
       "732  733        66            3  [336.0, 364.0, 27.0, 19.0]  444.0        0   \n",
       "\n",
       "                                          segmentation  \\\n",
       "696  [[145.0, 461.0, 127.0, 453.0, 109.0, 493.0, 12...   \n",
       "698  [[299.0, 335.0, 315.0, 335.0, 317.0, 305.0, 30...   \n",
       "717  [[297.0, 460.0, 288.0, 446.0, 265.0, 461.0, 27...   \n",
       "724  [[145.0, 52.0, 127.0, 44.0, 109.0, 84.0, 128.0...   \n",
       "732  [[363.0, 381.0, 362.0, 364.0, 336.0, 366.0, 33...   \n",
       "\n",
       "                                               polygon  \n",
       "696  POLYGON ((2193 461, 2175 453, 2157 493, 2176 5...  \n",
       "698  POLYGON ((2756 335, 2772 335, 2774 305, 2762 3...  \n",
       "717  POLYGON ((706 869, 697 855, 674 870, 683 884, ...  \n",
       "724  POLYGON ((2193 461, 2175 453, 2157 493, 2176 5...  \n",
       "732  POLYGON ((4459 790, 4458 773, 4432 775, 4433 7...  "
      ]
     },
     "execution_count": 100,
     "metadata": {},
     "output_type": "execute_result"
    }
   ],
   "source": [
    "dataset_dir = 'E:/datasets'\n",
    "dataset_name = 'DOTA_dataset_512'\n",
    "coco_dir = f'{dataset_dir}/{dataset_name}'\n",
    "eval_coco = f'{coco_dir}/val_coco.json'\n",
    "output_dir = coco_dir\n",
    "\n",
    "with open(eval_coco, 'r') as f:\n",
    "    coco_json = json.load(f)\n",
    "\n",
    "img_id_to_img_path = {img_dict['id']:img_dict['path'] for img_dict in coco_json['images']}\n",
    "img_id_to_img_dict = {img_dict['id']:img_dict for img_dict in coco_json['images']}\n",
    "select_classes = [3,12]\n",
    "cat_id_to_cat = {cat['id']:cat['name'] for cat in coco_json['categories']}\n",
    "for sel in select_classes:\n",
    "    print(f'using {cat_id_to_cat[sel]}')\n",
    "\n",
    "annot_df = pd.DataFrame(coco_json['annotations'])\n",
    "plane_ship_df = annot_df[annot_df['category_id'].isin(select_classes)]\n",
    "print(plane_ship_df['category_id'].unique())\n",
    "plane_ship_df.head()\n"
   ]
  },
  {
   "cell_type": "code",
   "execution_count": 101,
   "metadata": {},
   "outputs": [],
   "source": [
    "ps_annotations = plane_ship_df.to_dict(orient='records')"
   ]
  },
  {
   "cell_type": "code",
   "execution_count": 102,
   "metadata": {},
   "outputs": [
    {
     "name": "stdout",
     "output_type": "stream",
     "text": [
      "28319\n",
      "{'id': 697, 'image_id': 49, 'category_id': 3, 'bbox': [109.0, 453.0, 36.0, 50.0], 'area': 916.0, 'iscrowd': 0, 'segmentation': [[145.0, 461.0, 127.0, 453.0, 109.0, 493.0, 128.0, 503.0, 145.0, 461.0]], 'polygon': 'POLYGON ((2193 461, 2175 453, 2157 493, 2176 503, 2193 461))'}\n"
     ]
    }
   ],
   "source": [
    "print(len(ps_annotations))\n",
    "print(ps_annotations[0])"
   ]
  },
  {
   "cell_type": "code",
   "execution_count": 103,
   "metadata": {},
   "outputs": [],
   "source": [
    "subset_json = coco_json.copy()\n",
    "subset_json['annotations'] = ps_annotations"
   ]
  },
  {
   "cell_type": "code",
   "execution_count": 104,
   "metadata": {},
   "outputs": [
    {
     "name": "stderr",
     "output_type": "stream",
     "text": [
      "100%|██████████| 3500/3500 [02:59<00:00, 19.46it/s]\n"
     ]
    }
   ],
   "source": [
    "plane_ship_images = list(plane_ship_df['image_id'].unique())\n",
    "new_image_dir = f'{output_dir}/aug_images_10_10'\n",
    "os.makedirs(new_image_dir,exist_ok=True)\n",
    "new_images = []\n",
    "for img_id in tqdm(plane_ship_images):\n",
    "    new_dict = img_id_to_img_dict[img_id].copy()\n",
    "    img_name = new_dict['file_name']\n",
    "    new_path = f'{new_image_dir}/{img_name}'\n",
    "    new_dict['path'] = new_path\n",
    "    new_images.append(new_dict)\n",
    "\n",
    "    org_img = Image.open(img_id_to_img_dict[img_id]['path']).convert('RGB')\n",
    "    img_np = np.array(org_img)\n",
    "    aug_img = gaussian_blur_image(img_np, 7)\n",
    "    noise_var = 200\n",
    "    aug_img = adv_blur_image(aug_img, (noise_var,noise_var), (1))\n",
    "    aug_img = drop_pixels(aug_img, 0.01)\n",
    "    aug_img = Image.fromarray(aug_img)\n",
    "    aug_img.save(new_path)"
   ]
  },
  {
   "cell_type": "code",
   "execution_count": 105,
   "metadata": {},
   "outputs": [],
   "source": [
    "subset_json['images'] = new_images\n",
    "\n",
    "with open(f'{output_dir}/plane_ship_aug_val_coco.json', 'w') as f:\n",
    "    json.dump(subset_json, f, indent=4)"
   ]
  }
 ],
 "metadata": {
  "kernelspec": {
   "display_name": "practicum",
   "language": "python",
   "name": "python3"
  },
  "language_info": {
   "codemirror_mode": {
    "name": "ipython",
    "version": 3
   },
   "file_extension": ".py",
   "mimetype": "text/x-python",
   "name": "python",
   "nbconvert_exporter": "python",
   "pygments_lexer": "ipython3",
   "version": "3.12.4"
  }
 },
 "nbformat": 4,
 "nbformat_minor": 2
}
