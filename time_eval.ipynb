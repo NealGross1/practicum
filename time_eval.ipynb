{
 "cells": [
  {
   "cell_type": "code",
   "execution_count": 7,
   "metadata": {},
   "outputs": [],
   "source": [
    "import pandas as pd"
   ]
  },
  {
   "cell_type": "code",
   "execution_count": 8,
   "metadata": {},
   "outputs": [],
   "source": [
    "prompt_results_df = pd.read_csv('C:/Users/neals/Desktop/practicum/prompt_results_classification.csv')\n",
    "prompt_results_df['prompt'] = prompt_results_df['prompt'].fillna('Describe every item')"
   ]
  },
  {
   "cell_type": "code",
   "execution_count": 11,
   "metadata": {},
   "outputs": [
    {
     "name": "stdout",
     "output_type": "stream",
     "text": [
      "Describe every item,1.181769s\n",
      "Question: is there a plane in this image, If you are not sure about the answer, say you don't know? Answer:,1.320275s\n",
      "Question: is anything moving? Answer:,0.707257s\n",
      "Question: Is there a car? Answer:,0.775663s\n",
      "Question: How many cars are there? Answer:,0.561111s\n",
      "Question: Is there a truck? Answer:,0.703135s\n",
      "Question: How many trucks are there? Answer:,0.468850s\n",
      "Question: Is there a ship? Answer:,0.795654s\n",
      "Question: How many ships are there? Answer:,0.601957s\n",
      "Question: Is there a plane? Answer:,0.790252s\n",
      "Question: How many planes are there? Answer:,0.515615s\n",
      "Question: Is there a storage-tank? Answer:,0.854190s\n",
      "Question: How many storage-tanks are there? Answer:,0.669958s\n",
      "Question: Is there a swimming-pool? Answer:,0.919648s\n",
      "Question: How many swimming-pools are there? Answer:,0.389590s\n",
      "Question: Is there a harbor? Answer:,0.818329s\n",
      "Question: How many harbors are there? Answer:,0.730949s\n"
     ]
    }
   ],
   "source": [
    "for prompt in list(prompt_results_df['prompt'].unique()):\n",
    "    prompt_df=prompt_results_df[prompt_results_df['prompt']==prompt]\n",
    "\n",
    "    print(f\"{prompt},{prompt_df['processing_time'].mean():3f}s\")"
   ]
  }
 ],
 "metadata": {
  "kernelspec": {
   "display_name": "practicum",
   "language": "python",
   "name": "python3"
  },
  "language_info": {
   "codemirror_mode": {
    "name": "ipython",
    "version": 3
   },
   "file_extension": ".py",
   "mimetype": "text/x-python",
   "name": "python",
   "nbconvert_exporter": "python",
   "pygments_lexer": "ipython3",
   "version": "3.10.9"
  }
 },
 "nbformat": 4,
 "nbformat_minor": 2
}
